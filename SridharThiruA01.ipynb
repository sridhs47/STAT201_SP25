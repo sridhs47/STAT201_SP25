{
 "cells": [
  {
   "cell_type": "raw",
   "metadata": {
    "vscode": {
     "languageId": "raw"
    }
   },
   "source": [
    "---\n",
    "title: \"Assignment 1\"\n",
    "subtitle: \"STAT 201\"\n",
    "author: \"Sridhar Thiru\"\n",
    "format:\n",
    "  html:\n",
    "    toc: true\n",
    "    embed-resources: true\n",
    "jupyter: python3\n",
    "---"
   ]
  },
  {
   "cell_type": "markdown",
   "metadata": {},
   "source": [
    "## Instructions {-}\n",
    "\n",
    "1. **Write your name** on the assignment.\n",
    "\n",
    "2. Write your code in the *Code* cells of the **template provided** to write solutions for the assignment. **Do not open a new notebook**, and work from scratch. Ensure that the solution is written neatly enough to understand and grade.\n",
    "\n",
    "3. Use [Quarto](https://quarto.org/docs/output-formats/html-basics.html) to print the *.ipynb* file as HTML. You will need to open the command prompt, navigate to the directory containing the file, and use the command: `quarto render filename.ipynb --to html`. Submit the HTML file.\n",
    "\n",
    "4. You may talk to a friend, discuss the questions and potential directions for solving them. However, you need to write your own solutions and code separately, and not as a group activity. Do not use AI to solve the problems.\n",
    "\n",
    "5. If your document is not clean and organized, you can lose up to 2 points:\n",
    "\n",
    "    - Must be an HTML file rendered using Quarto. \n",
    "    - There aren’t excessively long outputs of extraneous information (e.g. no printouts of unnecessary results without good reason, there aren’t long printouts of which iteration a loop is on, there aren’t long sections of commented-out code, etc.). There is no piece of unnecessary / redundant code, and no unnecessary / redundant text\n",
    "    - The code follows the [python style guide](https://peps.python.org/pep-0008/) for naming variables, spaces, indentation, etc.\n",
    "    - The code should be commented and clearly written with intuitive variable names. For example, use variable names such as number_input, factor, hours, instead of a,b,xyz, etc.\n",
    "\n",
    "6. If your document does not include the output of your code, you may lose up to 5 points."
   ]
  },
  {
   "cell_type": "markdown",
   "metadata": {},
   "source": [
    "## Question 1 (4 points)"
   ]
  },
  {
   "cell_type": "markdown",
   "metadata": {},
   "source": [
    "a) Create a a variable called `var_float` that contains a decimal number."
   ]
  },
  {
   "cell_type": "code",
   "execution_count": 69,
   "metadata": {},
   "outputs": [],
   "source": [
    "var_float = 3.786"
   ]
  },
  {
   "cell_type": "markdown",
   "metadata": {},
   "source": [
    "b) Store a sentence as `var_sent` that reads exactly as follows: \"The square of `{}` is `{}`.\" Where the first `{}` is your `var_float` and the second `{}` is the square of that variable. Print your sentence."
   ]
  },
  {
   "cell_type": "code",
   "execution_count": 70,
   "metadata": {},
   "outputs": [
    {
     "name": "stdout",
     "output_type": "stream",
     "text": [
      "The square of 3.786 is 14.333796.\n"
     ]
    }
   ],
   "source": [
    "var_sent = f\"The square of {var_float} is {(var_float*var_float)}.\"\n",
    "print (var_sent)"
   ]
  },
  {
   "cell_type": "markdown",
   "metadata": {},
   "source": [
    "c) Print the output of using the `count` **method** to determine how many spaces are in `var_sent`."
   ]
  },
  {
   "cell_type": "code",
   "execution_count": 71,
   "metadata": {},
   "outputs": [
    {
     "name": "stdout",
     "output_type": "stream",
     "text": [
      "Number of spaces in sentence = 5\n"
     ]
    }
   ],
   "source": [
    "count_space = 0\n",
    "for i in range(len(var_sent)):\n",
    "    if var_sent[i] == \" \":\n",
    "        count_space = count_space + 1\n",
    "print(\"Number of spaces in sentence =\", count_space)"
   ]
  },
  {
   "cell_type": "markdown",
   "metadata": {},
   "source": [
    "d) Round your `var_float` to 0 decimal places and convert to an integer. Store this as `var_int` and print the `type` to verify this was done correctly."
   ]
  },
  {
   "cell_type": "code",
   "execution_count": 72,
   "metadata": {},
   "outputs": [
    {
     "name": "stdout",
     "output_type": "stream",
     "text": [
      "<class 'int'>\n"
     ]
    }
   ],
   "source": [
    "var_int = round(var_float,None)\n",
    "print (type(var_int))"
   ]
  },
  {
   "cell_type": "markdown",
   "metadata": {},
   "source": [
    "## Question 2 (3 points)"
   ]
  },
  {
   "cell_type": "markdown",
   "metadata": {},
   "source": [
    "Have a user input 2 Booleans (hint: must be type bool). In a **single print line**, using only `and`, `or`, `not` functions, have the output return True if both variables are the same, and False is they are different. \n",
    "\n",
    "Clarification: 1) cannot use conditional if statements 2) this must be capable of printing the correct output for any possible booleans the user could enter, not just the one example that your html will show."
   ]
  },
  {
   "cell_type": "code",
   "execution_count": 73,
   "metadata": {},
   "outputs": [
    {
     "name": "stdout",
     "output_type": "stream",
     "text": [
      "False\n"
     ]
    }
   ],
   "source": [
    "statementone = eval(input(\"True or False\"))\n",
    "statementtwo = eval(input(\"True or False\"))\n",
    "print((statementone and statementtwo) or not (statementone or statementtwo))\n"
   ]
  },
  {
   "cell_type": "markdown",
   "metadata": {},
   "source": []
  },
  {
   "cell_type": "markdown",
   "metadata": {},
   "source": [
    "## Question 3 (6 points)"
   ]
  },
  {
   "cell_type": "markdown",
   "metadata": {},
   "source": [
    "At Northwestern, email addresses are classified as follows:\n",
    "\n",
    "- **Student email addresses** end with `@u.northwestern.edu`.\n",
    "- **Professor email addresses** end with `@northwestern.edu` (but not `@u.northwestern.edu`).\n",
    "\n",
    "Write a Python program that:\n",
    "1. Asks the user how many email addresses they will enter.\n",
    "2. Prompts the user to input each email address.\n",
    "3. After all email addresses are entered:\n",
    "   - Print all professor email addresses under the heading `\"Professor Emails:\"`.\n",
    "   - Print all student email addresses under the heading `\"Student Emails:\"`.\n",
    "   - If no professor or student emails were entered, print `\"None\"` under the respective heading.\n",
    "\n",
    "### Requirements:\n",
    "- Do not use lists or other advanced data structures, since we have not covered them yet.\n",
    "- Use only basic string operations and loops.\n",
    "- **The program must handle all cases**, regardless of uppercase or lowercase in the email addresses.\n",
    "- **Trim any leading or trailing whitespace** in the user input before classifying the email.\n",
    "\n",
    "**Example Run:**\n",
    "\n",
    "How many email addresses will you be entering? 3 <br>\n",
    "Enter an email address: lshi@northwestern.edu  <br>\n",
    "Enter an email address: jackyu@u.northwestern.edu  <br>\n",
    "Enter an email address:   Alexa@u.northwestern.edu  <br>\n",
    "\n",
    "**Output:**\n",
    "\n",
    "Professor Emails: <br>\n",
    "lshi@northwestern.edu <br>\n",
    "\n",
    "Student Emails: <br>\n",
    "jackyu@u.northwestern.edu <br>\n",
    "alexa@u.northwestern.edu <br>\n"
   ]
  },
  {
   "cell_type": "code",
   "execution_count": 74,
   "metadata": {},
   "outputs": [
    {
     "name": "stdout",
     "output_type": "stream",
     "text": [
      "\n",
      "Students:\n",
      "jackyu@u.northwestern.edu\n",
      "alexa@u.northwestern.edu\n",
      "Teachers:\n",
      "lshi@northwestern.edu\n"
     ]
    }
   ],
   "source": [
    "emails = int(input(\"How many emails would you like to enter?\"))\n",
    "students = \"\"\n",
    "teachers = \"\"\n",
    "\n",
    "for i in range(emails):\n",
    "    user = input(\"Enter email: \").lower()\n",
    "    if \"@u.northwestern.edu\" in user:\n",
    "        students += user + \"\\n\"\n",
    "    elif \"@northwestern.edu\" in user:\n",
    "        teachers += user + \"\\n\"\n",
    "\n",
    "print(\"\\nStudents:\")\n",
    "print(students.strip())\n",
    "\n",
    "print(\"Teachers:\")\n",
    "print(teachers.strip())\n",
    "    "
   ]
  },
  {
   "cell_type": "markdown",
   "metadata": {},
   "source": [
    "## Question 4 (3 points)"
   ]
  },
  {
   "cell_type": "markdown",
   "metadata": {},
   "source": [
    "Write a tip calculator program that asks the user for the price of the meal and the percent tip they want to leave. Then print a sentence that displays both the tip amount and total bill. Example if meal price is 25 dollars and tip is 15 percent:\n",
    "                                   \n",
    "                                   Your tip amount is $3.75 and your total bill is $28.75."
   ]
  },
  {
   "cell_type": "code",
   "execution_count": 75,
   "metadata": {},
   "outputs": [
    {
     "name": "stdout",
     "output_type": "stream",
     "text": [
      "Your tip amount is $3.75 and your total bill is $28.75\n"
     ]
    }
   ],
   "source": [
    "while True:\n",
    "    try:\n",
    "        price = float(input(\"What's the price of your meal?\"))\n",
    "        break\n",
    "    except ValueError:\n",
    "        print(\"Please type a numerical value\")\n",
    "while True:\n",
    "    try:\n",
    "        tip = float(input(\"What percent tip would you like to leave?\"))\n",
    "        break\n",
    "    except ValueError:\n",
    "        print(\"Please give a numerical percentage\")\n",
    "totalbill = price + ((tip/100)*price)\n",
    "print(f\"Your tip amount is ${price*(tip/100)} and your total bill is ${totalbill}\")"
   ]
  },
  {
   "cell_type": "markdown",
   "metadata": {},
   "source": [
    "## Question 5 (3 points)"
   ]
  },
  {
   "cell_type": "markdown",
   "metadata": {},
   "source": [
    "Write a program that asks the user for a number of seconds and prints out how many minutes and seconds that is. Example:\n",
    "\n",
    "                                    200 seconds is 3 minutes and 20 seconds.\n",
    "                                               \n",
    "**Use only two lines of code for this question: one line for the input and one line for the print.** "
   ]
  },
  {
   "cell_type": "code",
   "execution_count": 76,
   "metadata": {},
   "outputs": [
    {
     "name": "stdout",
     "output_type": "stream",
     "text": [
      "200 seconds is 3 minutes and 20 seconds.\n"
     ]
    }
   ],
   "source": [
    "while True:\n",
    "    try:\n",
    "        time = int(input(\"Give a number of seconds:\"))\n",
    "        print(f\"{time} seconds is {round((time/60),None)} minutes and {(time%60)} seconds.\")\n",
    "        break\n",
    "    except ValueError:\n",
    "        print(\"Please enter a whole number\")"
   ]
  },
  {
   "cell_type": "markdown",
   "metadata": {},
   "source": [
    "## Question 6 (4 points)"
   ]
  },
  {
   "cell_type": "markdown",
   "metadata": {},
   "source": [
    "Write a program that asks the user to enter two numbers. Have the program return one of the following messages depending on which criteria is met. \n",
    "\n",
    "\"`num1` is greater than `num2`\"; \"`num 1` is less than `num2`\"; \"`num1` is equal to `num2`\"; where `num1` and `num2` are the user inputed values.\n",
    "\n",
    "Show the output of the program with any two numbers of your choice."
   ]
  },
  {
   "cell_type": "code",
   "execution_count": 77,
   "metadata": {},
   "outputs": [
    {
     "name": "stdout",
     "output_type": "stream",
     "text": [
      "1 is less than 2\n"
     ]
    }
   ],
   "source": [
    "while True:    \n",
    "        try:\n",
    "                num1 = int(input(\"enter a number:\"))\n",
    "                break\n",
    "        except ValueError: \n",
    "                print(\"please enter a whole number\")\n",
    "while True:\n",
    "        try:\n",
    "                num2 = int(input(\"enter a second number\"))\n",
    "                break\n",
    "        except ValueError:\n",
    "                print(\"please enter second number\")\n",
    "if num1>num2: \n",
    "        print(f\"{num1} is greater than {num2}\")\n",
    "elif num1<num2:\n",
    "        print(f\"{num1} is less than {num2}\")\n",
    "elif num1==num2:\n",
    "        print(f\"{num1} is equal to {num2}\")\n",
    "\n"
   ]
  },
  {
   "cell_type": "markdown",
   "metadata": {},
   "source": [
    "## Question 7 (4 points)"
   ]
  },
  {
   "cell_type": "markdown",
   "metadata": {},
   "source": [
    "a) Use a **single if-elif-else** statement to print the smallest of 3 user defined numbers. Show the output of the program with any three numbers of your choice."
   ]
  },
  {
   "cell_type": "code",
   "execution_count": 78,
   "metadata": {},
   "outputs": [
    {
     "name": "stdout",
     "output_type": "stream",
     "text": [
      "please enter an integer\n",
      "please enter an integer\n",
      "3\n"
     ]
    }
   ],
   "source": [
    "while True:\n",
    "     try:\n",
    "          one = int(input(\"Give number one\"))\n",
    "          break\n",
    "     except ValueError:\n",
    "          print(\"please enter an integer\")\n",
    "while True:\n",
    "     try:\n",
    "          two = int(input(\"Give second number\"))\n",
    "          break\n",
    "     except ValueError:\n",
    "          print(\"please enter an integer\")\n",
    "while True:\n",
    "     try:\n",
    "          three = int(input(\"Give third number\"))\n",
    "          break\n",
    "     except ValueError:\n",
    "          print(\"please enter an integer\")\n",
    "if one <= (two and three):\n",
    "     print(one)\n",
    "elif two <= (one and three):\n",
    "     print(two)\n",
    "else: \n",
    "     print(three)"
   ]
  },
  {
   "cell_type": "markdown",
   "metadata": {},
   "source": [
    "b) Use a **nested** conditional statement to print the smallest of 3 user defined numbers. Show the output of the program with any three numbers of your choice."
   ]
  },
  {
   "cell_type": "code",
   "execution_count": 79,
   "metadata": {},
   "outputs": [
    {
     "name": "stdout",
     "output_type": "stream",
     "text": [
      "1 is the smallest number\n"
     ]
    }
   ],
   "source": [
    "while True:\n",
    "     try:\n",
    "          one = int(input(\"Give number one\"))\n",
    "          break\n",
    "     except ValueError:\n",
    "          print(\"please enter an integer\")\n",
    "while True:\n",
    "     try:\n",
    "          two = int(input(\"Give second number\"))\n",
    "          break\n",
    "     except ValueError:\n",
    "          print(\"please enter an integer\")\n",
    "while True:\n",
    "     try:\n",
    "          three = int(input(\"Give third number\"))\n",
    "          break\n",
    "     except ValueError:\n",
    "          print(\"please enter an integer\")\n",
    "\n",
    "if one <= two:\n",
    "     if one<=three:\n",
    "         print(f\"{one} is the smallest number\")\n",
    "     else:\n",
    "          print(f\"{three} is the smallest number\")\n",
    "else: \n",
    "     if two<=three:\n",
    "          print(f\"{two} is the smallest number\") \n",
    "     else: \n",
    "          print(f'{three} is the smallest number')\n",
    "\n",
    "\n",
    "     \n",
    "     "
   ]
  },
  {
   "cell_type": "markdown",
   "metadata": {},
   "source": [
    "## Question 8 (6 points)"
   ]
  },
  {
   "cell_type": "markdown",
   "metadata": {},
   "source": [
    "Write a program that asks the user to enter either rock, paper, or scissors. Use a conditional statement to determine if the user wins, loses, or ties the computer at the game \"Rock, Paper, Scissors\". Note: rock beats scissors; scissors beats paper; paper beats rock\n",
    "\n",
    "Print a meaningful sentence that includes the winner, the computer's choice, and the user's choice.\n",
    "\n",
    "- Handle case sensitivity (example: if the user enters Rock, it will still run). \n",
    "- If the user enters a word other than one of the choices, print \"Invalid choice.\". \n",
    "- Show the output of the program when the user enters Rock (capitalized)"
   ]
  },
  {
   "cell_type": "code",
   "execution_count": 80,
   "metadata": {},
   "outputs": [
    {
     "name": "stdout",
     "output_type": "stream",
     "text": [
      "Computer won. paper beat your choice of rock\n"
     ]
    }
   ],
   "source": [
    "# starter code to generate a random choice of rock, paper, scissors\n",
    "import random as rm\n",
    "computer= rm.choice(['rock', 'paper', 'scissors'])\n",
    "\n",
    "# your solution in this code chunk below\n",
    "choice = \"\"\n",
    "def rules (choice, computer):\n",
    "    while True:\n",
    "        choice = input(\"Rock, paper, or scissors\")\n",
    "        choice = choice.lower()\n",
    "        if choice not in (['rock', 'scissors', 'paper']):\n",
    "            print(\"Sorry, you did not choose a possible option. Please try again\")\n",
    "        else:\n",
    "            break\n",
    "    if (computer == choice):\n",
    "            return print(f\"Tie: you and the computer both chose {computer}\")\n",
    "    if (choice == 'rock' and computer == 'scissors') or (choice == 'paper' and computer == 'rock') or (choice == 'scissors' and computer == 'paper'):\n",
    "            return print(f\"You won: You chose {choice} and the computer chose {computer}\")\n",
    "    else:\n",
    "            return print(f\"Computer won. {computer} beat your choice of {choice}\")\n",
    "\n",
    "(rules(choice, computer))\n",
    "\n",
    "\n",
    "\n",
    "        \n",
    "\n",
    "\n",
    "        \n",
    "        \n",
    "    \n",
    "   \n",
    "        \n",
    "\n",
    "    \n"
   ]
  },
  {
   "cell_type": "markdown",
   "metadata": {},
   "source": [
    "## Bonus (6 points)\n",
    "\n",
    "FFor all questions in this assignment that involve accepting user input:\n",
    "\n",
    "- Use a **`try-except` block** to handle cases where the user may enter invalid input (e.g., non-numeric values).\n",
    "- Implement a **loop** that repeatedly prompts the user until a valid value is provided, so the program can proceed safely.\n",
    "- To receive credit, you must **revise each applicable question** by modifying your code to include both the input loop and error handling directly in that question’s solution.\n",
    "\n",
    "Each revised question is worth **1 point**."
   ]
  }
 ],
 "metadata": {
  "kernelspec": {
   "display_name": ".venv",
   "language": "python",
   "name": "python3"
  },
  "language_info": {
   "codemirror_mode": {
    "name": "ipython",
    "version": 3
   },
   "file_extension": ".py",
   "mimetype": "text/x-python",
   "name": "python",
   "nbconvert_exporter": "python",
   "pygments_lexer": "ipython3",
   "version": "3.13.2"
  }
 },
 "nbformat": 4,
 "nbformat_minor": 4
}
